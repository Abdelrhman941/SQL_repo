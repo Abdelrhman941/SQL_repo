{
 "cells": [
  {
   "cell_type": "markdown",
   "metadata": {},
   "source": [
    "# SQL For Data Analysis"
   ]
  },
  {
   "cell_type": "markdown",
   "metadata": {},
   "source": [
    "![Data Analysis Stages](./images/01sqlda.png)"
   ]
  },
  {
   "cell_type": "markdown",
   "metadata": {},
   "source": [
    "![Data Analysis Stages](./images/02sqlda.png)"
   ]
  },
  {
   "cell_type": "markdown",
   "metadata": {},
   "source": [
    "## Profiling"
   ]
  },
  {
   "cell_type": "markdown",
   "metadata": {},
   "source": [
    "* Exploratory Data Analysis  \n",
    "* What is the data structure?  \n",
    "* Quantitative Distribution  \n",
    "* Visualizing results  \n",
    "* Data Quality  \n",
    "  "
   ]
  },
  {
   "cell_type": "markdown",
   "metadata": {},
   "source": [
    "1. download the sample data from the below website  \n",
    "**[SFData](https://data.sfgov.org/Public-Safety/Police-Department-Incident-Reports-Historical-2003/tmnf-yvry/data)**\n"
   ]
  },
  {
   "cell_type": "markdown",
   "metadata": {},
   "source": [
    "2. save the csv file in the rdbms/databases/csv"
   ]
  },
  {
   "cell_type": "markdown",
   "metadata": {},
   "source": [
    "3. prepare the database and load data  \n",
    "`$ docker run -d -v /var/run/docker.sock:/tmp/docker.sock -v /etc/hosts:/tmp/hosts asami76/docker-hoster`  \n",
    "`$ docker-compose -f postgresql.yml up`"
   ]
  },
  {
   "cell_type": "markdown",
   "metadata": {},
   "source": [
    "4. Attach to the postgresql container shell and load the csv into a new database"
   ]
  },
  {
   "cell_type": "markdown",
   "metadata": {},
   "source": [
    "['PdId', 'IncidntNum', 'Incident Code', 'Category', 'Descript',\n",
    "       'DayOfWeek', 'Date', 'Time', 'PdDistrict', 'Resolution', 'Address', 'X',\n",
    "       'Y', 'location', 'SF Find Neighborhoods 2 2',\n",
    "       'Current Police Districts 2 2', 'Current Supervisor Districts 2 2',\n",
    "       'Analysis Neighborhoods 2 2', 'DELETE - Fire Prevention Districts 2 2',\n",
    "       'DELETE - Police Districts 2 2', 'DELETE - Supervisor Districts 2 2',\n",
    "       'DELETE - Zip Codes 2 2', 'DELETE - Neighborhoods 2 2',\n",
    "       'DELETE - 2017 Fix It Zones 2 2',\n",
    "       'Civic Center Harm Reduction Project Boundary 2 2',\n",
    "       'Fix It Zones as of 2017-11-06  2 2', 'DELETE - HSOC Zones 2 2',\n",
    "       'Fix It Zones as of 2018-02-07 2 2',\n",
    "       'CBD, BID and GBD Boundaries as of 2017 2 2',\n",
    "       'Areas of Vulnerability, 2016 2 2',\n",
    "       'Central Market/Tenderloin Boundary 2 2',\n",
    "       'Central Market/Tenderloin Boundary Polygon - Updated 2 2',\n",
    "       'HSOC Zones as of 2018-06-05 2 2', 'OWED Public Spaces 2 2',\n",
    "       'Neighborhoods 2'],\n",
    "      dtype='object'"
   ]
  },
  {
   "cell_type": "code",
   "execution_count": null,
   "metadata": {},
   "outputs": [],
   "source": [
    "# display a pandas dataframe with full column width \n",
    "pd.set_option('display.max_colwidth', -1)\n"
   ]
  }
 ],
 "metadata": {
  "language_info": {
   "name": "python"
  },
  "orig_nbformat": 4
 },
 "nbformat": 4,
 "nbformat_minor": 2
}
