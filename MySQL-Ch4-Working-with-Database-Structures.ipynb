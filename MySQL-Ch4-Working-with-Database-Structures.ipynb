{
 "cells": [
  {
   "cell_type": "markdown",
   "id": "40ba989d",
   "metadata": {},
   "source": [
    "# Working with Database Structures"
   ]
  },
  {
   "cell_type": "markdown",
   "id": "c7f0d27c",
   "metadata": {},
   "source": [
    "## Creating and Using Databases"
   ]
  },
  {
   "cell_type": "markdown",
   "id": "764f411d",
   "metadata": {},
   "source": [
    "`mysql> CREATE DATABASE lucy;`"
   ]
  },
  {
   "cell_type": "markdown",
   "id": "f70ece3f",
   "metadata": {},
   "source": [
    "`mysql> USE lucy;`"
   ]
  },
  {
   "cell_type": "markdown",
   "id": "946727ac",
   "metadata": {},
   "source": [
    "`mysql> CREATE DATABASE IF NOT EXISTS lucy;`"
   ]
  },
  {
   "cell_type": "markdown",
   "id": "cc873c68",
   "metadata": {},
   "source": [
    "## Creating Tables"
   ]
  },
  {
   "cell_type": "markdown",
   "id": "2bde349a",
   "metadata": {},
   "source": [
    "`mysql> DROP DATABASE sakila;`"
   ]
  },
  {
   "cell_type": "markdown",
   "id": "c9dc5d04",
   "metadata": {},
   "source": [
    "`mysql> CREATE DATABASE sakila;`"
   ]
  },
  {
   "cell_type": "markdown",
   "id": "60d30618",
   "metadata": {},
   "source": [
    "**check folder structure**"
   ]
  },
  {
   "cell_type": "markdown",
   "id": "69d629cc",
   "metadata": {},
   "source": [
    "`mysql> USE sakila;`"
   ]
  },
  {
   "cell_type": "markdown",
   "id": "1c2f3b8b",
   "metadata": {},
   "source": [
    "`mysql> CREATE TABLE actor (`  \n",
    "    `-> actor_id SMALLINT UNSIGNED NOT NULL DEFAULT 0,`  \n",
    "    `-> first_name VARCHAR(45) DEFAULT NULL,`  \n",
    "    `-> last_name VARCHAR(45),`  \n",
    "    `-> last_update TIMESTAMP,`  \n",
    "    `-> PRIMARY KEY (actor_id)`  \n",
    "    `-> );`"
   ]
  },
  {
   "cell_type": "markdown",
   "id": "4a2439d3",
   "metadata": {},
   "source": [
    "**check folder structure**"
   ]
  },
  {
   "cell_type": "markdown",
   "id": "bc4b4bc6",
   "metadata": {},
   "source": [
    "`mysql> INSERT INTO actor(first_name) VALUES ('John');`"
   ]
  },
  {
   "cell_type": "markdown",
   "id": "c8071591",
   "metadata": {},
   "source": [
    "`mysql> INSERT INTO actor(first_name) VALUES ('Elisabeth');` -- Error duplicate id"
   ]
  },
  {
   "cell_type": "markdown",
   "id": "a771661d",
   "metadata": {},
   "source": []
  },
  {
   "cell_type": "markdown",
   "id": "29fb276c",
   "metadata": {},
   "source": []
  },
  {
   "cell_type": "markdown",
   "id": "0766baf9",
   "metadata": {},
   "source": []
  },
  {
   "cell_type": "markdown",
   "id": "c9739885",
   "metadata": {},
   "source": []
  },
  {
   "cell_type": "markdown",
   "id": "0f513ac9",
   "metadata": {},
   "source": []
  },
  {
   "cell_type": "markdown",
   "id": "e181189f",
   "metadata": {},
   "source": []
  },
  {
   "cell_type": "markdown",
   "id": "0d60b813",
   "metadata": {},
   "source": []
  },
  {
   "cell_type": "markdown",
   "id": "4006dd3f",
   "metadata": {},
   "source": []
  },
  {
   "cell_type": "markdown",
   "id": "2624f9a4",
   "metadata": {},
   "source": []
  },
  {
   "cell_type": "markdown",
   "id": "05acf8ba",
   "metadata": {},
   "source": []
  }
 ],
 "metadata": {
  "kernelspec": {
   "display_name": "Python 3 (ipykernel)",
   "language": "python",
   "name": "python3"
  },
  "language_info": {
   "codemirror_mode": {
    "name": "ipython",
    "version": 3
   },
   "file_extension": ".py",
   "mimetype": "text/x-python",
   "name": "python",
   "nbconvert_exporter": "python",
   "pygments_lexer": "ipython3",
   "version": "3.10.4"
  }
 },
 "nbformat": 4,
 "nbformat_minor": 5
}
