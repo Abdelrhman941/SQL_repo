{
 "cells": [
  {
   "cell_type": "markdown",
   "id": "83d78f13",
   "metadata": {},
   "source": [
    "## **Using the _sakila_ Database**\n",
    "\n",
    "#Check existing databases  \n",
    "**`mysql> SHOW DATABASES;`**\n",
    "\n",
    "---\n",
    "#Change context  \n",
    "**`mysql> USE sakila;`**\n",
    "\n",
    "---\n",
    "#Check the current active  \n",
    "**`mysql> SELECT DATABASE();`**\n",
    "\n",
    "---\n",
    "#Explore existing tables in the active database  \n",
    "**`mysql> SHOW TABLES;`**\n",
    "\n",
    "---\n",
    "#Show table schema  \n",
    "**`mysql> SHOW COLUMNS FROM actor;`**  \n",
    "**`mysql> DESCRIBE actor;`**\n",
    "\n",
    "---"
   ]
  },
  {
   "cell_type": "markdown",
   "id": "8baf79a9",
   "metadata": {},
   "source": [
    "## **Data Manipulation Language (DML)**"
   ]
  },
  {
   "cell_type": "markdown",
   "id": "344fd5e3",
   "metadata": {},
   "source": [
    "### **- SELECT Statement**\n",
    "[SELECT Doc](https://dev.mysql.com/doc/refman/8.0/en/select.html)"
   ]
  },
  {
   "cell_type": "code",
   "execution_count": null,
   "id": "4cb27330",
   "metadata": {
    "vscode": {
     "languageId": "sql"
    }
   },
   "outputs": [],
   "source": [
    "SELECT\n",
    "    [ALL | DISTINCT | DISTINCTROW ]\n",
    "    [HIGH_PRIORITY]\n",
    "    [STRAIGHT_JOIN]\n",
    "    [SQL_SMALL_RESULT] [SQL_BIG_RESULT] [SQL_BUFFER_RESULT]\n",
    "    [SQL_NO_CACHE] [SQL_CALC_FOUND_ROWS]\n",
    "    select_expr [, select_expr] ...\n",
    "    [into_option]\n",
    "    [FROM table_references\n",
    "      [PARTITION partition_list]]\n",
    "    [WHERE where_condition]\n",
    "    [GROUP BY {col_name | expr | position}, ... [WITH ROLLUP]]\n",
    "    [HAVING where_condition]\n",
    "    [WINDOW window_name AS (window_spec)\n",
    "        [, window_name AS (window_spec)] ...]\n",
    "    [ORDER BY {col_name | expr | position}\n",
    "      [ASC | DESC], ... [WITH ROLLUP]]\n",
    "    [LIMIT {[offset,] row_count | row_count OFFSET offset}]\n",
    "    [into_option]\n",
    "    [FOR {UPDATE | SHARE}\n",
    "        [OF tbl_name [, tbl_name] ...]\n",
    "        [NOWAIT | SKIP LOCKED]\n",
    "      | LOCK IN SHARE MODE]\n",
    "    [into_option]\n",
    "\n",
    "into_option: {\n",
    "    INTO OUTFILE 'file_name'\n",
    "        [CHARACTER SET charset_name]\n",
    "        export_options\n",
    "  | INTO DUMPFILE 'file_name'\n",
    "  | INTO var_name [, var_name] ...\n",
    "}"
   ]
  },
  {
   "cell_type": "markdown",
   "id": "4bfcfab9",
   "metadata": {},
   "source": [
    "### **- WHERE Clause**\n",
    "\n",
    "`mysql> SELECT * FROM sakila.language WHERE name = 'English';`"
   ]
  },
  {
   "cell_type": "markdown",
   "id": "b828c32e",
   "metadata": {},
   "source": [
    "### **- ORDER BY Clause**\n",
    "\n",
    "`mysql> SELECT name FROM customer_list`  \n",
    "    `-> ORDER BY name`  \n",
    "    `-> LIMIT 10;` \n",
    "\n",
    "`mysql> SELECT address, district FROM address`  \n",
    "    `-> ORDER BY district, address;`\n",
    "\n",
    "`mysql> SELECT id, name FROM customer_list`  \n",
    "    `-> ORDER BY id LIMIT 10 OFFSET 5;`"
   ]
  },
  {
   "cell_type": "markdown",
   "id": "2fd53a29",
   "metadata": {},
   "source": [
    "## **Joining Two Tables**\n",
    "\n",
    "`LEFT JOIN, RIGHT JOIN,, INNER JOIN`\n",
    "\n",
    "`mysql> SELECT city, country FROM city INNER JOIN country`  \n",
    "    `-> ON city.country_id = country.country_id`  \n",
    "    `-> WHERE country.country_id < 5`  \n",
    "    `-> ORDER BY country, city;`  \n",
    "\n",
    "#Equals\n",
    "\n",
    "`mysql> SELECT city, country FROM city INNER JOIN country`  \n",
    "    `-> using (country_id)`**  \n",
    "    `-> WHERE country.country_id < 5`  \n",
    "    `-> ORDER BY country, city;`  \n",
    "\n",
    "![Joins](https://i.postimg.cc/ncgQWWcD/join-types.png)"
   ]
  },
  {
   "cell_type": "markdown",
   "id": "48776640",
   "metadata": {},
   "source": [
    "## **INSERT Statement**\n",
    "\n",
    "`mysql> SHOW COLUMNS FROM language;`\n",
    "\n",
    "`mysql> INSERT INTO language VALUES (NULL, 'Portuguese', NOW());`\n",
    "\n",
    "`mysql> INSERT INTO language VALUES (8, 'Russian', '2020-09-26 10:35:00');`"
   ]
  },
  {
   "cell_type": "code",
   "execution_count": null,
   "id": "a3b7ef04",
   "metadata": {
    "vscode": {
     "languageId": "sql"
    }
   },
   "outputs": [],
   "source": [
    "INSERT [LOW_PRIORITY | DELAYED | HIGH_PRIORITY] [IGNORE]\n",
    "    [INTO] tbl_name\n",
    "    [PARTITION (partition_name [, partition_name] ...)]\n",
    "    [(col_name [, col_name] ...)]\n",
    "    { {VALUES | VALUE} (value_list) [, (value_list)] ... }\n",
    "    [AS row_alias[(col_alias [, col_alias] ...)]]\n",
    "    [ON DUPLICATE KEY UPDATE assignment_list]\n",
    "\n",
    "INSERT [LOW_PRIORITY | DELAYED | HIGH_PRIORITY] [IGNORE]\n",
    "    [INTO] tbl_name\n",
    "    [PARTITION (partition_name [, partition_name] ...)]\n",
    "    SET assignment_list\n",
    "    [AS row_alias[(col_alias [, col_alias] ...)]]\n",
    "    [ON DUPLICATE KEY UPDATE assignment_list]\n",
    "\n",
    "INSERT [LOW_PRIORITY | HIGH_PRIORITY] [IGNORE]\n",
    "    [INTO] tbl_name\n",
    "    [PARTITION (partition_name [, partition_name] ...)]\n",
    "    [(col_name [, col_name] ...)]\n",
    "    { SELECT ... \n",
    "        | TABLE table_name \n",
    "        | VALUES row_constructor_list\n",
    "    }\n",
    "    [ON DUPLICATE KEY UPDATE assignment_list]\n",
    "\n",
    "value:\n",
    "    {expr | DEFAULT}\n",
    "\n",
    "value_list:\n",
    "    value [, value] ...\n",
    "\n",
    "row_constructor_list:\n",
    "    ROW(value_list)[, ROW(value_list)][, ...]\n",
    "\n",
    "assignment:\n",
    "    col_name = \n",
    "            value \n",
    "        | [row_alias.]col_name\n",
    "        | [tbl_name.]col_name\n",
    "        | [row_alias.]col_alias\n",
    "\n",
    "assignment_list:\n",
    "    assignment [, assignment] ..."
   ]
  },
  {
   "cell_type": "markdown",
   "id": "a9dd810c",
   "metadata": {},
   "source": [
    "## **DELETE**\n",
    "\n",
    "`mysql> DELETE FROM rental;`\n",
    "\n",
    "`mysql> TRUNCATE TABLE payment;`"
   ]
  },
  {
   "cell_type": "code",
   "execution_count": null,
   "id": "777134c5",
   "metadata": {
    "vscode": {
     "languageId": "sql"
    }
   },
   "outputs": [],
   "source": [
    "DELETE [LOW_PRIORITY] [QUICK] [IGNORE] FROM tbl_name [[AS] tbl_alias]\n",
    "    [PARTITION (partition_name [, partition_name] ...)]\n",
    "    [WHERE where_condition]\n",
    "    [ORDER BY ...]\n",
    "    [LIMIT row_count]"
   ]
  },
  {
   "cell_type": "markdown",
   "id": "5a865776",
   "metadata": {},
   "source": [
    "## **UPDATE**\n",
    "\n",
    "`mysql> UPDATE payment SET amount=amount*1.1;`\n",
    "\n",
    "`mysql> UPDATE payment SET last_update='2021-02-28 17:53:00';`"
   ]
  },
  {
   "cell_type": "code",
   "execution_count": null,
   "id": "a32dfc85",
   "metadata": {
    "vscode": {
     "languageId": "sql"
    }
   },
   "outputs": [],
   "source": [
    "UPDATE [LOW_PRIORITY] [IGNORE] table_reference\n",
    "    SET assignment_list\n",
    "    [WHERE where_condition]\n",
    "    [ORDER BY ...]\n",
    "    [LIMIT row_count]\n",
    "\n",
    "value:\n",
    "    {expr | DEFAULT}\n",
    "\n",
    "assignment:\n",
    "    col_name = value\n",
    "\n",
    "assignment_list:\n",
    "    assignment [, assignment] ..."
   ]
  }
 ],
 "metadata": {
  "kernelspec": {
   "display_name": "Python 3 (ipykernel)",
   "language": "python",
   "name": "python3"
  },
  "language_info": {
   "codemirror_mode": {
    "name": "ipython",
    "version": 3
   },
   "file_extension": ".py",
   "mimetype": "text/x-python",
   "name": "python",
   "nbconvert_exporter": "python",
   "pygments_lexer": "ipython3",
   "version": "3.10.4"
  }
 },
 "nbformat": 4,
 "nbformat_minor": 5
}
