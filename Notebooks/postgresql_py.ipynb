{
 "cells": [
  {
   "cell_type": "code",
   "execution_count": 2,
   "id": "b4080513",
   "metadata": {},
   "outputs": [],
   "source": [
    "import psycopg2\n",
    "from psycopg2 import Error"
   ]
  },
  {
   "cell_type": "code",
   "execution_count": 3,
   "id": "8bcbc3ac",
   "metadata": {},
   "outputs": [],
   "source": [
    "def run_query(db, user, password, host=\"localhost\", port=\"5432\", query=\"SELECT version();\", fetch=\"all\"):\n",
    "    \"\"\"\n",
    "    Connects to a PostgreSQL database, runs a query, and prints results.\n",
    "    \n",
    "    Args:\n",
    "        db       (str) : database name\n",
    "        user     (str) : username\n",
    "        password (str) : password\n",
    "        host     (str) : host (default=localhost)\n",
    "        port     (str) : port (default=5432)\n",
    "        query    (str) : SQL query to execute\n",
    "        fetch    (str) : \"all\", \"one\", or \"many\" (default=\"all\")\n",
    "    \"\"\"\n",
    "    try:\n",
    "        conn = psycopg2.connect(database=db,user=user,password=password,host=host,port=port)\n",
    "        cursor = conn.cursor()\n",
    "        cursor.execute(query)\n",
    "        \n",
    "        if fetch == \"all\":\n",
    "            results = cursor.fetchall()\n",
    "        elif fetch == \"one\":\n",
    "            results = cursor.fetchone()\n",
    "        elif fetch == \"many\":\n",
    "            results = cursor.fetchmany(size=3)\n",
    "        else:\n",
    "            raise ValueError(\"fetch must be 'all', 'one', or 'many'\")\n",
    "        \n",
    "        print(\"✅ Query executed successfully!\")\n",
    "        print(\"-\" * 40)\n",
    "        if results:\n",
    "            if isinstance(results, list):   # all / many\n",
    "                for row in results:\n",
    "                    print(row)\n",
    "            else:   # one\n",
    "                print(results)\n",
    "        cursor.close()\n",
    "        conn.close()\n",
    "    except (Exception, Error) as e:\n",
    "        print(f\"❌ PostgreSQL Error: {e}\")"
   ]
  },
  {
   "cell_type": "code",
   "execution_count": 5,
   "id": "c07d9675",
   "metadata": {},
   "outputs": [
    {
     "name": "stdout",
     "output_type": "stream",
     "text": [
      "✅ Query executed successfully!\n",
      "----------------------------------------\n",
      "(1, 'Penelope', 'Guiness', datetime.datetime(2013, 5, 26, 14, 47, 57, 620000))\n",
      "(2, 'Nick', 'Wahlberg', datetime.datetime(2013, 5, 26, 14, 47, 57, 620000))\n",
      "(3, 'Ed', 'Chase', datetime.datetime(2013, 5, 26, 14, 47, 57, 620000))\n",
      "(4, 'Jennifer', 'Davis', datetime.datetime(2013, 5, 26, 14, 47, 57, 620000))\n",
      "(5, 'Johnny', 'Lollobrigida', datetime.datetime(2013, 5, 26, 14, 47, 57, 620000))\n",
      "(6, 'Bette', 'Nicholson', datetime.datetime(2013, 5, 26, 14, 47, 57, 620000))\n",
      "(7, 'Grace', 'Mostel', datetime.datetime(2013, 5, 26, 14, 47, 57, 620000))\n",
      "(8, 'Matthew', 'Johansson', datetime.datetime(2013, 5, 26, 14, 47, 57, 620000))\n",
      "(9, 'Joe', 'Swank', datetime.datetime(2013, 5, 26, 14, 47, 57, 620000))\n",
      "(10, 'Christian', 'Gable', datetime.datetime(2013, 5, 26, 14, 47, 57, 620000))\n"
     ]
    }
   ],
   "source": [
    "run_query(\n",
    "    db       = \"dvdrental\",\n",
    "    user     = \"postgres\",\n",
    "    password = \"Abdelrhman2004\",\n",
    "    host     = \"localhost\",\n",
    "    query    = \"SELECT * FROM actor LIMIT 10;\",\n",
    "    fetch    = \"all\"\n",
    ")"
   ]
  },
  {
   "cell_type": "code",
   "execution_count": 6,
   "id": "dd306073",
   "metadata": {},
   "outputs": [
    {
     "name": "stdout",
     "output_type": "stream",
     "text": [
      "✅ Query executed successfully!\n",
      "----------------------------------------\n",
      "(1, 'Academy Dinosaur', 'A Epic Drama of a Feminist And a Mad Scientist who must Battle a Teacher in The Canadian Rockies', 'Documentary', Decimal('0.99'), 86, 'PG', 'Penelope Guiness, Christian Gable, Lucille Tracy, Sandra Peck, Johnny Cage, Mena Temple, Warren Nolte, Oprah Kilmer, Rock Dukakis, Mary Keitel')\n",
      "(2, 'Ace Goldfinger', 'A Astounding Epistle of a Database Administrator And a Explorer who must Find a Car in Ancient China', 'Horror', Decimal('4.99'), 48, 'G', 'Bob Fawcett, Minnie Zellweger, Sean Guiness, Chris Depp')\n",
      "(3, 'Adaptation Holes', 'A Astounding Reflection of a Lumberjack And a Car who must Sink a Lumberjack in A Baloon Factory', 'Documentary', Decimal('2.99'), 50, 'NC-17', 'Nick Wahlberg, Bob Fawcett, Cameron Streep, Ray Johansson, Julianne Dench')\n"
     ]
    }
   ],
   "source": [
    "run_query(\n",
    "    db       = \"dvdrental\",\n",
    "    user     = \"postgres\",\n",
    "    password = \"Abdelrhman2004\",\n",
    "    host     = \"localhost\",\n",
    "    query    = \"SELECT * FROM film_list LIMIT 10;\",\n",
    "    fetch    = \"many\"\n",
    ")"
   ]
  }
 ],
 "metadata": {
  "kernelspec": {
   "display_name": "ds-core",
   "language": "python",
   "name": "python3"
  },
  "language_info": {
   "codemirror_mode": {
    "name": "ipython",
    "version": 3
   },
   "file_extension": ".py",
   "mimetype": "text/x-python",
   "name": "python",
   "nbconvert_exporter": "python",
   "pygments_lexer": "ipython3",
   "version": "3.11.13"
  }
 },
 "nbformat": 4,
 "nbformat_minor": 5
}
