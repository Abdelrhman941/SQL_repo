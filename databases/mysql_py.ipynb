{
 "cells": [
  {
   "cell_type": "code",
   "execution_count": null,
   "id": "2df03dd8-0636-4057-8cbe-6e8ef53d59d9",
   "metadata": {},
   "outputs": [],
   "source": [
    "!pip install mysql-connector-python\n"
   ]
  },
  {
   "cell_type": "code",
   "execution_count": null,
   "id": "64a65b56-4a2e-4dff-8ebc-a462629ebee1",
   "metadata": {},
   "outputs": [],
   "source": [
    "from mysql.connector import connect, Error\n",
    "from getpass import getpass\n",
    "\n",
    "try:\n",
    "    with connect(\n",
    "        host=\"mysql-db\",\n",
    "        user=input(\"Enter username: \"),\n",
    "        password=getpass(\"Enter password: \"),\n",
    "    ) as connection:\n",
    "        create_db_query = \"CREATE DATABASE testdb;\"\n",
    "        with connection.cursor() as cursor:\n",
    "            cursor.execute(create_db_query)\n",
    "except Error as e:\n",
    "    print(e)"
   ]
  },
  {
   "cell_type": "code",
   "execution_count": 10,
   "id": "347927a0-bd5c-42c7-b7e0-6ffadfdb1bae",
   "metadata": {},
   "outputs": [
    {
     "name": "stdout",
     "output_type": "stream",
     "text": [
      "<mysql.connector.connection_cext.CMySQLConnection object at 0x7fa21caed950>\n"
     ]
    }
   ],
   "source": [
    "from mysql.connector import connect, Error\n",
    "\n",
    "mysqldb = connect(\n",
    "    host=\"mysql-db\",\n",
    "    user=\"root\",\n",
    "    password=\"P@ssw0rd\",\n",
    "    buffered=True\n",
    ")\n",
    "\n",
    "print(mysqldb)"
   ]
  },
  {
   "cell_type": "code",
   "execution_count": 11,
   "id": "5f003bef-64ac-4882-8389-d0e4eb1f5582",
   "metadata": {},
   "outputs": [
    {
     "name": "stdout",
     "output_type": "stream",
     "text": [
      "('information_schema',)\n",
      "('mysql',)\n",
      "('performance_schema',)\n",
      "('sys',)\n",
      "('testdb',)\n"
     ]
    }
   ],
   "source": [
    "mycursor = mysqldb.cursor()\n",
    "\n",
    "mycursor.execute(\"SHOW DATABASES;\")\n",
    "dbs = mycursor.fetchall()\n",
    "\n",
    "for db in dbs:\n",
    "    print (db)"
   ]
  },
  {
   "cell_type": "code",
   "execution_count": null,
   "id": "6fce2f16-cecd-40e5-a68e-51acbc45b352",
   "metadata": {},
   "outputs": [],
   "source": [
    "mycursor.execute(\"CREATE DATABASE IF NOT EXISTS testdb;\")"
   ]
  },
  {
   "cell_type": "code",
   "execution_count": null,
   "id": "abc1fcb4-3d0f-424b-a3f4-49906ac9ccbd",
   "metadata": {},
   "outputs": [],
   "source": [
    "\n",
    "qry1 = \"\"\"\n",
    "USE testdb;\n",
    "CREATE TABLE t1 (id INT, first_name VARCHAR(20));\n",
    "\n",
    "SHOW COLUMNS FROM t1;\n",
    "\n",
    "-- insert values into table t1\n",
    "INSERT INTO t1 VALUES (1, 'ahmed'), (2, 'aya'), (3, 'john');\n",
    "\"\"\"\n",
    "\n",
    "mycursor.execute(qry1)\n",
    "\n",
    "result = mycursor.fetchall()"
   ]
  },
  {
   "cell_type": "code",
   "execution_count": null,
   "id": "92c72faa-e76f-4039-af6d-f864cf80d6e7",
   "metadata": {},
   "outputs": [],
   "source": []
  },
  {
   "cell_type": "code",
   "execution_count": null,
   "id": "3e22f174-904b-4726-964f-ce9cc96223ad",
   "metadata": {},
   "outputs": [],
   "source": [
    "for x in result:\n",
    "    print(x)"
   ]
  },
  {
   "cell_type": "code",
   "execution_count": null,
   "id": "1328793a-94e5-4e6a-8105-251b279d6fa0",
   "metadata": {},
   "outputs": [],
   "source": [
    "mycursor.close()"
   ]
  },
  {
   "cell_type": "code",
   "execution_count": null,
   "id": "7137d501-f3e2-4279-b0a5-48cdd7aaec50",
   "metadata": {},
   "outputs": [],
   "source": [
    "mysqldb = connect(\n",
    "    host=\"mysql-db\",\n",
    "    user=\"root\",\n",
    "    database=\"testdb\",\n",
    "    password=\"P@ssw0rd\")\n",
    "\n",
    "\n",
    "mycursor = mysqldb.cursor()\n",
    "\n",
    "qry2 = \"SELECT * FROM t1\"\n",
    "\n",
    "mycursor.execute(qry2)\n",
    "result = mycursor.fetchall()\n",
    "\n",
    "print (result)\n",
    "for res in result:\n",
    "    print(res)\n",
    "#mycursor.close()"
   ]
  },
  {
   "cell_type": "code",
   "execution_count": 9,
   "id": "0c69a2c8-9a6f-40fe-b592-09cb739c50e2",
   "metadata": {},
   "outputs": [
    {
     "data": {
      "text/plain": [
       "True"
      ]
     },
     "execution_count": 9,
     "metadata": {},
     "output_type": "execute_result"
    }
   ],
   "source": [
    "mycursor.close()"
   ]
  },
  {
   "cell_type": "code",
   "execution_count": null,
   "id": "21bfbd6d-f8e1-4e6a-86e8-72c0fa628f55",
   "metadata": {},
   "outputs": [],
   "source": []
  }
 ],
 "metadata": {
  "kernelspec": {
   "display_name": "Python 3 (ipykernel)",
   "language": "python",
   "name": "python3"
  },
  "language_info": {
   "codemirror_mode": {
    "name": "ipython",
    "version": 3
   },
   "file_extension": ".py",
   "mimetype": "text/x-python",
   "name": "python",
   "nbconvert_exporter": "python",
   "pygments_lexer": "ipython3",
   "version": "3.11.4"
  }
 },
 "nbformat": 4,
 "nbformat_minor": 5
}
